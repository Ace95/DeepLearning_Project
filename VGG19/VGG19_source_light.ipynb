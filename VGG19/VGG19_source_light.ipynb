{
  "nbformat": 4,
  "nbformat_minor": 0,
  "metadata": {
    "colab": {
      "name": "VGG19-source_light.ipynb",
      "provenance": [],
      "collapsed_sections": []
    },
    "kernelspec": {
      "name": "python3",
      "display_name": "Python 3"
    },
    "accelerator": "GPU"
  },
  "cells": [
    {
      "cell_type": "code",
      "metadata": {
        "id": "EPOOI-NoGOlg",
        "colab_type": "code",
        "colab": {
          "base_uri": "https://localhost:8080/",
          "height": 143
        },
        "outputId": "bed7f3c2-9f01-4ba0-b637-c8adee6dda6e"
      },
      "source": [
        "from google.colab import drive\n",
        "drive.mount('/content/gdrive')\n",
        "%cd /content/gdrive/My\\ Drive"
      ],
      "execution_count": null,
      "outputs": [
        {
          "output_type": "stream",
          "text": [
            "Go to this URL in a browser: https://accounts.google.com/o/oauth2/auth?client_id=947318989803-6bn6qk8qdgf4n4g3pfee6491hc0brc4i.apps.googleusercontent.com&redirect_uri=urn%3aietf%3awg%3aoauth%3a2.0%3aoob&response_type=code&scope=email%20https%3a%2f%2fwww.googleapis.com%2fauth%2fdocs.test%20https%3a%2f%2fwww.googleapis.com%2fauth%2fdrive%20https%3a%2f%2fwww.googleapis.com%2fauth%2fdrive.photos.readonly%20https%3a%2f%2fwww.googleapis.com%2fauth%2fpeopleapi.readonly\n",
            "\n",
            "Enter your authorization code:\n",
            "··········\n",
            "Mounted at /content/gdrive\n",
            "/content/gdrive/My Drive\n"
          ],
          "name": "stdout"
        }
      ]
    },
    {
      "cell_type": "code",
      "metadata": {
        "id": "frOp8EO9YgFr",
        "colab_type": "code",
        "colab": {
          "base_uri": "https://localhost:8080/",
          "height": 55
        },
        "outputId": "4b348991-fa24-4ab9-a839-c4e5073f87c6"
      },
      "source": [
        "!pwd"
      ],
      "execution_count": null,
      "outputs": [
        {
          "output_type": "stream",
          "text": [
            "/content/gdrive/My Drive\n"
          ],
          "name": "stdout"
        }
      ]
    },
    {
      "cell_type": "code",
      "metadata": {
        "id": "qdSlgEkEPnXK",
        "colab_type": "code",
        "colab": {
          "base_uri": "https://localhost:8080/",
          "height": 213
        },
        "outputId": "e9f13f86-f536-4f2f-87e4-96c006048efa"
      },
      "source": [
        "from getpass import getpass\n",
        "import os\n",
        "\n",
        "user = getpass('User')\n",
        "password = getpass('Password')\n",
        "os.environ['GIT_AUTH'] = user + ':' + password\n",
        "\n",
        "!git clone https://$GIT_AUTH@github.com/Ace95/DeepLearning_Project.git  "
      ],
      "execution_count": null,
      "outputs": [
        {
          "output_type": "stream",
          "text": [
            "User··········\n",
            "Password··········\n",
            "Cloning into 'DeepLearning_Project'...\n",
            "remote: Enumerating objects: 114, done.\u001b[K\n",
            "remote: Counting objects: 100% (114/114), done.\u001b[K\n",
            "remote: Compressing objects: 100% (90/90), done.\u001b[K\n",
            "remote: Total 203217 (delta 41), reused 85 (delta 15), pack-reused 203103\u001b[K\n",
            "Receiving objects: 100% (203217/203217), 1.44 GiB | 11.56 MiB/s, done.\n",
            "Resolving deltas: 100% (393/393), done.\n",
            "Checking out files: 100% (42058/42058), done.\n"
          ],
          "name": "stdout"
        }
      ]
    },
    {
      "cell_type": "code",
      "metadata": {
        "id": "xa_EyNghgJCc",
        "colab_type": "code",
        "colab": {
          "base_uri": "https://localhost:8080/",
          "height": 55
        },
        "outputId": "6af5f71a-47f3-4036-9eab-afe5c0af81aa"
      },
      "source": [
        "%cd /content/gdrive/My\\ Drive/DeepLearning_Project/VGG19/"
      ],
      "execution_count": null,
      "outputs": [
        {
          "output_type": "stream",
          "text": [
            "/content/gdrive/My Drive/DeepLearning_Project/VGG19\n"
          ],
          "name": "stdout"
        }
      ]
    },
    {
      "cell_type": "markdown",
      "metadata": {
        "id": "s25v7o9Mf0de",
        "colab_type": "text"
      },
      "source": [
        "### General Imports and functions definitions"
      ]
    },
    {
      "cell_type": "code",
      "metadata": {
        "id": "_6eOjeKH26jD",
        "colab_type": "code",
        "colab": {}
      },
      "source": [
        "\"\"\"\n",
        "Created on Fri Apr 17 15:40:21 2020\n",
        "\n",
        "@author: Nicolaas Ruberg\n",
        "\"\"\"\n",
        "import os\n",
        "import pandas as pd\n",
        "import matplotlib.pyplot as plt\n",
        "\n",
        "def save_history(history,fileName):\n",
        "    hist_df = pd.DataFrame(history)\n",
        "    with open(fileName,mode='w') as f:\n",
        "        hist_df.to_csv(f)\n",
        "\n",
        "def save_elapsedTime(elapsedTime,fileName):\n",
        "    f = open(fileName,'a+')\n",
        "    f.write('%%Elapsed Time: {:.2f}m. \\n'.format(elapsedTime/60))\n",
        "    f.close()\n",
        "        \n",
        "def find_next_file_history(dirHistory, fileName):\n",
        "    if not os.path.exists(dirHistory):\n",
        "        os.makedirs(dirHistory)\n",
        "    files = os.listdir(dirHistory)\n",
        "    if len(files) > 0:\n",
        "        for f in files:\n",
        "            if f.endswith('.csv'):\n",
        "                return (dirHistory+'/'+fileName[0:fileName.find('.')]\n",
        "                        +'_' + str(len(files)) +'.csv')\n",
        "            else:\n",
        "                return (dirHistory+'/'+fileName)\n",
        "    else:\n",
        "        return (dirHistory+'/'+fileName)\n",
        "    \n",
        "def show_history(history):\n",
        "    ACC = 'acc' # for keras\n",
        "    VAL_ACC = 'val_acc'\n",
        "    plt.plot(history.history[ACC]) \n",
        "    plt.plot(history.history[VAL_ACC])\n",
        "    plt.ylabel('accuracy')\n",
        "    plt.xlabel('epoch')\n",
        "    plt.legend(['Training accuracy', 'Validation accuracy'], loc='best')\n",
        "    \n",
        "    plt.figure()\n",
        "    plt.title('Training and validation loss')\n",
        "    plt.plot(history.history['loss'], 'red', label='Training loss')\n",
        "    plt.plot(history.history['val_loss'], 'blue', label='Validation loss')\n",
        "    plt.ylabel('loss')\n",
        "    plt.xlabel('epoch')\n",
        "    plt.legend(['Training loss', 'Validation loss'], loc='best')\n",
        "    plt.savefig('./models/plot_history.png')\n",
        "    plt.show()\n",
        "    # Let's save our result for further analysi\n",
        "  \n",
        "    "
      ],
      "execution_count": null,
      "outputs": []
    },
    {
      "cell_type": "markdown",
      "metadata": {
        "id": "Zu18tMkRk-Y8",
        "colab_type": "text"
      },
      "source": [
        "## Defining initial parameters"
      ]
    },
    {
      "cell_type": "code",
      "metadata": {
        "id": "1uwsVnhXfnyn",
        "colab_type": "code",
        "colab": {}
      },
      "source": [
        "import time\n",
        "import keras\n",
        "import pandas as pd\n",
        "import matplotlib.pyplot as plt\n",
        "from numpy import asarray\n",
        "from keras.utils import to_categorical\n",
        "from keras.preprocessing.image  import ImageDataGenerator\n",
        "from keras.applications.inception_v3 import InceptionV3\n",
        "from keras.applications import VGG19\n",
        "from keras.applications.vgg19 import preprocess_input\n",
        "\n",
        "from keras.layers import Dense, Dropout, GlobalAveragePooling2D\n",
        "from keras.models import Model\n",
        "from keras import models\n",
        "from keras import layers\n",
        "from keras import optimizers\n",
        "#from  myUtils import find_next_file_history, save_history, show_history, save_elapsedTime\n",
        "\n",
        "\n",
        "\n",
        "trainDIR='../source_light/train'\n",
        "valDIR='../source_light/valid'\n",
        "testDIR='../source_light/test'\n",
        "# imgHeight=224 #218\n",
        "# imgWidth=224 #178\n",
        "imgHeight=218\n",
        "imgWidth=178\n",
        "imageShape=(imgHeight,imgWidth) #Celeba croped image shape\n",
        "\n",
        "histFileName = 'historyVGG19_src_light.csv'\n",
        "dirHistFileName = './history'\n",
        "\n",
        "numEpochs=20"
      ],
      "execution_count": null,
      "outputs": []
    },
    {
      "cell_type": "code",
      "metadata": {
        "id": "KAnhvJQQgCV4",
        "colab_type": "code",
        "colab": {
          "base_uri": "https://localhost:8080/",
          "height": 618
        },
        "outputId": "0701bff3-c638-478e-8c20-62e0e177e93e"
      },
      "source": [
        "vgg = VGG19(input_shape=imageShape+(3,), include_top = False, weights = \"imagenet\", classes = 1000,\n",
        "                            backend=keras.backend, layers=keras.layers,\n",
        "                            models=keras.models,utils=keras.utils) # this line imports the VGG19 model trained on imagenet dataset and discard the last 1000 neurons layer \n",
        "\n",
        "output=vgg.layers[-1].output\n",
        "output = keras.layers.Flatten()(output)\n",
        "\n",
        "vgg_model = Model(vgg.input,output)\n",
        "\n",
        "# We want to use the pre-trained weights\n",
        "vgg_model.trainable = False\n",
        "for layer in vgg_model.layers:\n",
        "    layer.trainable = False\n",
        "        \n",
        "##\n",
        "input_shape = vgg_model.output_shape[1]\n",
        "\n",
        "model = keras.models.Sequential()\n",
        "model.add(vgg_model)\n",
        "model.add(keras.layers.InputLayer(input_shape=(input_shape,)))\n",
        "model.add(Dense(512,activation='relu',input_dim=input_shape))\n",
        "model.add(Dropout(0.5))\n",
        "model.add(Dense(512,activation='relu'))\n",
        "model.add(Dropout(0.5))\n",
        "model.add(Dense(3,activation='softmax'))\n",
        "model.compile(optimizer='Adam',loss='categorical_crossentropy',metrics=['acc'])\n",
        "print(model.summary())\n",
        "\n",
        "\n",
        "layers = [(layer.name, layer.trainable) for layer in model.layers]\n",
        "print(pd.DataFrame(layers, columns=['Layer Name', 'Layer Trainable']))\n"
      ],
      "execution_count": null,
      "outputs": [
        {
          "output_type": "stream",
          "text": [
            "Downloading data from https://github.com/fchollet/deep-learning-models/releases/download/v0.1/vgg19_weights_tf_dim_ordering_tf_kernels_notop.h5\n",
            "80142336/80134624 [==============================] - 8s 0us/step\n",
            "Model: \"sequential_1\"\n",
            "_________________________________________________________________\n",
            "Layer (type)                 Output Shape              Param #   \n",
            "=================================================================\n",
            "model_1 (Model)              (None, 15360)             20024384  \n",
            "_________________________________________________________________\n",
            "input_2 (InputLayer)         (None, 15360)             0         \n",
            "_________________________________________________________________\n",
            "dense_1 (Dense)              (None, 512)               7864832   \n",
            "_________________________________________________________________\n",
            "dropout_1 (Dropout)          (None, 512)               0         \n",
            "_________________________________________________________________\n",
            "dense_2 (Dense)              (None, 512)               262656    \n",
            "_________________________________________________________________\n",
            "dropout_2 (Dropout)          (None, 512)               0         \n",
            "_________________________________________________________________\n",
            "dense_3 (Dense)              (None, 3)                 1539      \n",
            "=================================================================\n",
            "Total params: 28,153,411\n",
            "Trainable params: 8,129,027\n",
            "Non-trainable params: 20,024,384\n",
            "_________________________________________________________________\n",
            "None\n",
            "  Layer Name  Layer Trainable\n",
            "0    model_1            False\n",
            "1    input_2            False\n",
            "2    dense_1             True\n",
            "3  dropout_1             True\n",
            "4    dense_2             True\n",
            "5  dropout_2             True\n",
            "6    dense_3             True\n"
          ],
          "name": "stdout"
        }
      ]
    },
    {
      "cell_type": "code",
      "metadata": {
        "id": "WoTBtzVwgbE-",
        "colab_type": "code",
        "colab": {
          "base_uri": "https://localhost:8080/",
          "height": 458
        },
        "outputId": "4884e7f3-27db-4eca-cdaa-94b19d7aa7d2"
      },
      "source": [
        "train_datagen = ImageDataGenerator(preprocessing_function=preprocess_input)\n",
        "train_it = train_datagen.flow_from_directory(\n",
        "    directory=trainDIR,\n",
        "    target_size=imageShape,\n",
        "    color_mode=\"rgb\",\n",
        "    batch_size=32,\n",
        "    class_mode=\"categorical\",\n",
        "    shuffle=True\n",
        ")\n",
        "\n",
        "val_it = train_datagen.flow_from_directory(\n",
        "    directory=valDIR,\n",
        "    target_size=imageShape,\n",
        "    color_mode=\"rgb\",\n",
        "    batch_size=32,\n",
        "    class_mode=\"categorical\",\n",
        "    shuffle=True\n",
        ")"
      ],
      "execution_count": null,
      "outputs": [
        {
          "output_type": "error",
          "ename": "FileNotFoundError",
          "evalue": "ignored",
          "traceback": [
            "\u001b[0;31m---------------------------------------------------------------------------\u001b[0m",
            "\u001b[0;31mFileNotFoundError\u001b[0m                         Traceback (most recent call last)",
            "\u001b[0;32m<ipython-input-12-409ae0950136>\u001b[0m in \u001b[0;36m<module>\u001b[0;34m()\u001b[0m\n\u001b[1;32m      6\u001b[0m     \u001b[0mbatch_size\u001b[0m\u001b[0;34m=\u001b[0m\u001b[0;36m32\u001b[0m\u001b[0;34m,\u001b[0m\u001b[0;34m\u001b[0m\u001b[0;34m\u001b[0m\u001b[0m\n\u001b[1;32m      7\u001b[0m     \u001b[0mclass_mode\u001b[0m\u001b[0;34m=\u001b[0m\u001b[0;34m\"categorical\"\u001b[0m\u001b[0;34m,\u001b[0m\u001b[0;34m\u001b[0m\u001b[0;34m\u001b[0m\u001b[0m\n\u001b[0;32m----> 8\u001b[0;31m     \u001b[0mshuffle\u001b[0m\u001b[0;34m=\u001b[0m\u001b[0;32mTrue\u001b[0m\u001b[0;34m\u001b[0m\u001b[0;34m\u001b[0m\u001b[0m\n\u001b[0m\u001b[1;32m      9\u001b[0m )\n\u001b[1;32m     10\u001b[0m \u001b[0;34m\u001b[0m\u001b[0m\n",
            "\u001b[0;32m/usr/local/lib/python3.6/dist-packages/keras/preprocessing/image.py\u001b[0m in \u001b[0;36mflow_from_directory\u001b[0;34m(self, directory, target_size, color_mode, classes, class_mode, batch_size, shuffle, seed, save_to_dir, save_prefix, save_format, follow_links, subset, interpolation)\u001b[0m\n\u001b[1;32m    465\u001b[0m             \u001b[0mfollow_links\u001b[0m\u001b[0;34m=\u001b[0m\u001b[0mfollow_links\u001b[0m\u001b[0;34m,\u001b[0m\u001b[0;34m\u001b[0m\u001b[0;34m\u001b[0m\u001b[0m\n\u001b[1;32m    466\u001b[0m             \u001b[0msubset\u001b[0m\u001b[0;34m=\u001b[0m\u001b[0msubset\u001b[0m\u001b[0;34m,\u001b[0m\u001b[0;34m\u001b[0m\u001b[0;34m\u001b[0m\u001b[0m\n\u001b[0;32m--> 467\u001b[0;31m             \u001b[0minterpolation\u001b[0m\u001b[0;34m=\u001b[0m\u001b[0minterpolation\u001b[0m\u001b[0;34m\u001b[0m\u001b[0;34m\u001b[0m\u001b[0m\n\u001b[0m\u001b[1;32m    468\u001b[0m         )\n\u001b[1;32m    469\u001b[0m \u001b[0;34m\u001b[0m\u001b[0m\n",
            "\u001b[0;32m/usr/local/lib/python3.6/dist-packages/keras/preprocessing/image.py\u001b[0m in \u001b[0;36m__init__\u001b[0;34m(self, directory, image_data_generator, target_size, color_mode, classes, class_mode, batch_size, shuffle, seed, data_format, save_to_dir, save_prefix, save_format, follow_links, subset, interpolation, dtype)\u001b[0m\n\u001b[1;32m    148\u001b[0m             \u001b[0msubset\u001b[0m\u001b[0;34m=\u001b[0m\u001b[0msubset\u001b[0m\u001b[0;34m,\u001b[0m\u001b[0;34m\u001b[0m\u001b[0;34m\u001b[0m\u001b[0m\n\u001b[1;32m    149\u001b[0m             \u001b[0minterpolation\u001b[0m\u001b[0;34m=\u001b[0m\u001b[0minterpolation\u001b[0m\u001b[0;34m,\u001b[0m\u001b[0;34m\u001b[0m\u001b[0;34m\u001b[0m\u001b[0m\n\u001b[0;32m--> 150\u001b[0;31m             dtype=dtype)\n\u001b[0m\u001b[1;32m    151\u001b[0m \u001b[0;34m\u001b[0m\u001b[0m\n\u001b[1;32m    152\u001b[0m \u001b[0;34m\u001b[0m\u001b[0m\n",
            "\u001b[0;32m/usr/local/lib/python3.6/dist-packages/keras_preprocessing/image/directory_iterator.py\u001b[0m in \u001b[0;36m__init__\u001b[0;34m(self, directory, image_data_generator, target_size, color_mode, classes, class_mode, batch_size, shuffle, seed, data_format, save_to_dir, save_prefix, save_format, follow_links, subset, interpolation, dtype)\u001b[0m\n\u001b[1;32m    113\u001b[0m         \u001b[0;32mif\u001b[0m \u001b[0;32mnot\u001b[0m \u001b[0mclasses\u001b[0m\u001b[0;34m:\u001b[0m\u001b[0;34m\u001b[0m\u001b[0;34m\u001b[0m\u001b[0m\n\u001b[1;32m    114\u001b[0m             \u001b[0mclasses\u001b[0m \u001b[0;34m=\u001b[0m \u001b[0;34m[\u001b[0m\u001b[0;34m]\u001b[0m\u001b[0;34m\u001b[0m\u001b[0;34m\u001b[0m\u001b[0m\n\u001b[0;32m--> 115\u001b[0;31m             \u001b[0;32mfor\u001b[0m \u001b[0msubdir\u001b[0m \u001b[0;32min\u001b[0m \u001b[0msorted\u001b[0m\u001b[0;34m(\u001b[0m\u001b[0mos\u001b[0m\u001b[0;34m.\u001b[0m\u001b[0mlistdir\u001b[0m\u001b[0;34m(\u001b[0m\u001b[0mdirectory\u001b[0m\u001b[0;34m)\u001b[0m\u001b[0;34m)\u001b[0m\u001b[0;34m:\u001b[0m\u001b[0;34m\u001b[0m\u001b[0;34m\u001b[0m\u001b[0m\n\u001b[0m\u001b[1;32m    116\u001b[0m                 \u001b[0;32mif\u001b[0m \u001b[0mos\u001b[0m\u001b[0;34m.\u001b[0m\u001b[0mpath\u001b[0m\u001b[0;34m.\u001b[0m\u001b[0misdir\u001b[0m\u001b[0;34m(\u001b[0m\u001b[0mos\u001b[0m\u001b[0;34m.\u001b[0m\u001b[0mpath\u001b[0m\u001b[0;34m.\u001b[0m\u001b[0mjoin\u001b[0m\u001b[0;34m(\u001b[0m\u001b[0mdirectory\u001b[0m\u001b[0;34m,\u001b[0m \u001b[0msubdir\u001b[0m\u001b[0;34m)\u001b[0m\u001b[0;34m)\u001b[0m\u001b[0;34m:\u001b[0m\u001b[0;34m\u001b[0m\u001b[0;34m\u001b[0m\u001b[0m\n\u001b[1;32m    117\u001b[0m                     \u001b[0mclasses\u001b[0m\u001b[0;34m.\u001b[0m\u001b[0mappend\u001b[0m\u001b[0;34m(\u001b[0m\u001b[0msubdir\u001b[0m\u001b[0;34m)\u001b[0m\u001b[0;34m\u001b[0m\u001b[0;34m\u001b[0m\u001b[0m\n",
            "\u001b[0;31mFileNotFoundError\u001b[0m: [Errno 2] No such file or directory: '../source_light/train'"
          ]
        }
      ]
    },
    {
      "cell_type": "code",
      "metadata": {
        "id": "SlloveMXgkes",
        "colab_type": "code",
        "colab": {
          "base_uri": "https://localhost:8080/",
          "height": 776
        },
        "outputId": "2bab92dd-be4d-4061-c053-9818444fcdf9"
      },
      "source": [
        "start = time.time()\n",
        "step_size_train = train_it.n//train_it.batch_size\n",
        "step_size_val = val_it.n//val_it.batch_size\n",
        "\n",
        "history = model.fit_generator(generator=train_it,steps_per_epoch=step_size_train,\n",
        "                    epochs=numEpochs,\n",
        "                    validation_data=val_it,\n",
        "                    validation_steps=step_size_val\n",
        "                    )\n",
        "\n",
        "\n",
        "model.save('./models/VGG19_celeba_model_src_light.h5')\n",
        "\n",
        "##    \n",
        "end = time.time()\n",
        "elapsedTime= (end - start)\n",
        "print('Elapsed Time:')\n",
        "print(\"\\t\\t{:.2f}m\".format(elapsedTime/60))"
      ],
      "execution_count": null,
      "outputs": [
        {
          "output_type": "stream",
          "text": [
            "Epoch 1/20\n",
            "343/343 [==============================] - 58s 170ms/step - loss: 1.4800 - acc: 0.5136 - val_loss: 1.1841 - val_acc: 0.4970\n",
            "Epoch 2/20\n",
            "343/343 [==============================] - 61s 178ms/step - loss: 1.3252 - acc: 0.5137 - val_loss: 1.0554 - val_acc: 0.5031\n",
            "Epoch 3/20\n",
            "343/343 [==============================] - 61s 179ms/step - loss: 1.2393 - acc: 0.5170 - val_loss: 0.9372 - val_acc: 0.4752\n",
            "Epoch 4/20\n",
            "343/343 [==============================] - 61s 178ms/step - loss: 1.1312 - acc: 0.5178 - val_loss: 1.0673 - val_acc: 0.4876\n",
            "Epoch 5/20\n",
            "343/343 [==============================] - 61s 177ms/step - loss: 1.1715 - acc: 0.5161 - val_loss: 1.1421 - val_acc: 0.5134\n",
            "Epoch 6/20\n",
            "343/343 [==============================] - 61s 179ms/step - loss: 1.1326 - acc: 0.5163 - val_loss: 0.9110 - val_acc: 0.4855\n",
            "Epoch 7/20\n",
            "343/343 [==============================] - 61s 178ms/step - loss: 1.1820 - acc: 0.5191 - val_loss: 0.9686 - val_acc: 0.4721\n",
            "Epoch 8/20\n",
            "343/343 [==============================] - 61s 178ms/step - loss: 1.0840 - acc: 0.5165 - val_loss: 0.9249 - val_acc: 0.4855\n",
            "Epoch 9/20\n",
            "343/343 [==============================] - 61s 177ms/step - loss: 1.1273 - acc: 0.5171 - val_loss: 1.1387 - val_acc: 0.4897\n",
            "Epoch 10/20\n",
            "343/343 [==============================] - 61s 178ms/step - loss: 1.1042 - acc: 0.5155 - val_loss: 1.0693 - val_acc: 0.4938\n",
            "Epoch 11/20\n",
            "343/343 [==============================] - 61s 178ms/step - loss: 1.1102 - acc: 0.5166 - val_loss: 1.0184 - val_acc: 0.4917\n",
            "Epoch 12/20\n",
            "343/343 [==============================] - 61s 178ms/step - loss: 1.0612 - acc: 0.5183 - val_loss: 1.5058 - val_acc: 0.4979\n",
            "Epoch 13/20\n",
            "343/343 [==============================] - 61s 178ms/step - loss: 1.0921 - acc: 0.5169 - val_loss: 1.0304 - val_acc: 0.4835\n",
            "Epoch 14/20\n",
            "343/343 [==============================] - 61s 178ms/step - loss: 1.0847 - acc: 0.5181 - val_loss: 1.1064 - val_acc: 0.4804\n",
            "Epoch 15/20\n",
            "343/343 [==============================] - 61s 177ms/step - loss: 1.0804 - acc: 0.5177 - val_loss: 1.0697 - val_acc: 0.4886\n",
            "Epoch 16/20\n",
            "343/343 [==============================] - 61s 178ms/step - loss: 1.0780 - acc: 0.5176 - val_loss: 1.0446 - val_acc: 0.5041\n",
            "Epoch 17/20\n",
            "343/343 [==============================] - 61s 178ms/step - loss: 1.0499 - acc: 0.5156 - val_loss: 1.1184 - val_acc: 0.4824\n",
            "Epoch 18/20\n",
            "343/343 [==============================] - 61s 177ms/step - loss: 1.0558 - acc: 0.5201 - val_loss: 0.9931 - val_acc: 0.4773\n",
            "Epoch 19/20\n",
            "343/343 [==============================] - 61s 177ms/step - loss: 1.0423 - acc: 0.5145 - val_loss: 0.9788 - val_acc: 0.5021\n",
            "Epoch 20/20\n",
            "343/343 [==============================] - 61s 177ms/step - loss: 1.0430 - acc: 0.5168 - val_loss: 1.0162 - val_acc: 0.4845\n",
            "Elapsed Time:\n",
            "\t\t20.29m\n"
          ],
          "name": "stdout"
        }
      ]
    },
    {
      "cell_type": "code",
      "metadata": {
        "id": "2HE2gWsEE4--",
        "colab_type": "code",
        "colab": {
          "base_uri": "https://localhost:8080/",
          "height": 90
        },
        "outputId": "69a1d126-d112-4e63-ea47-86fc3a6d2118"
      },
      "source": [
        "val_test = train_datagen.flow_from_directory(\n",
        "    directory=testDIR,\n",
        "    target_size=imageShape,\n",
        "    color_mode=\"rgb\",\n",
        "    batch_size=32,\n",
        "    class_mode=\"categorical\",\n",
        "    shuffle=True\n",
        ")\n",
        "\n",
        "\n",
        "step_size_val = val_test.n//val_test.batch_size\n",
        "score1 = model.evaluate_generator(generator=val_test,steps=step_size_val)\n",
        "print('Test loss:', score1[0])\n",
        "print('Test accuracy:', score1[1])"
      ],
      "execution_count": null,
      "outputs": [
        {
          "output_type": "stream",
          "text": [
            "Found 1000 images belonging to 3 classes.\n",
            "Test loss: 1.095521092414856\n",
            "Test accuracy: 0.5372983813285828\n"
          ],
          "name": "stdout"
        }
      ]
    },
    {
      "cell_type": "code",
      "metadata": {
        "id": "LW86Du4Ogn7_",
        "colab_type": "code",
        "colab": {
          "base_uri": "https://localhost:8080/",
          "height": 576
        },
        "outputId": "cbf31230-2c5e-4333-d331-6b6d5154aaaf"
      },
      "source": [
        "show_history(history)\n",
        "finalHistoryFile=find_next_file_history(dirHistFileName,histFileName)\n",
        "save_history(history.history,finalHistoryFile)\n",
        "\n",
        "save_elapsedTime(elapsedTime,finalHistoryFile)\n"
      ],
      "execution_count": null,
      "outputs": [
        {
          "output_type": "display_data",
          "data": {
            "image/png": "[encoded data removed]",
            "text/plain": [
              "<Figure size 432x288 with 1 Axes>"
            ]
          },
          "metadata": {
            "tags": [],
            "needs_background": "light"
          }
        },
        {
          "output_type": "display_data",
          "data": {
            "image/png": "[encoded data removed]",
            "text/plain": [
              "<Figure size 432x288 with 1 Axes>"
            ]
          },
          "metadata": {
            "tags": [],
            "needs_background": "light"
          }
        }
      ]
    },
    {
      "cell_type": "code",
      "metadata": {
        "id": "_vQPIY5wsgcZ",
        "colab_type": "code",
        "colab": {}
      },
      "source": [
        "# Final execution with 10 epochs\n",
        "numEpochs = 10\n",
        "step_size_train = train_generator.n//train_generator.batch_size\n",
        "step_size_val = val_generator.n//val_generator.batch_size\n",
        "history = cnn4.fit_generator(generator=train_generator,steps_per_epoch=step_size_train,epochs=numEpochs,\n",
        "                    validation_data=val_generator,validation_steps=step_size_val)\n",
        "\n",
        "cnn4.save('./models/VGG19_celeba_model-10epochs.h5')\n",
        "end = time.time()\n",
        "elapsedTime= (end - start)\n",
        "print(\"Elapsed Time:\")\n",
        "print(\"\\t\\t{:.2f}m\".format(elapsedTime/60))"
      ],
      "execution_count": null,
      "outputs": []
    }
  ]
}