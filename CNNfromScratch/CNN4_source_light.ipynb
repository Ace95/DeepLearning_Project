{
  "nbformat": 4,
  "nbformat_minor": 0,
  "metadata": {
    "colab": {
      "name": "CNN4-source_light.ipynb",
      "provenance": [],
      "collapsed_sections": []
    },
    "kernelspec": {
      "name": "python3",
      "display_name": "Python 3"
    },
    "accelerator": "GPU"
  },
  "cells": [
    {
      "cell_type": "code",
      "metadata": {
        "id": "EPOOI-NoGOlg",
        "colab_type": "code",
        "colab": {
          "base_uri": "https://localhost:8080/",
          "height": 55
        },
        "outputId": "5a197a3c-0526-469c-dba3-f7314a296cd7"
      },
      "source": [
        "#from google.colab import drive\n",
        "#drive.mount('/content/gdrive')\n",
        "#%cd /content/gdrive/My\\ Drive\n",
        "%cd /content"
      ],
      "execution_count": null,
      "outputs": [
        {
          "output_type": "stream",
          "text": [
            "/content\n"
          ],
          "name": "stdout"
        }
      ]
    },
    {
      "cell_type": "code",
      "metadata": {
        "id": "qdSlgEkEPnXK",
        "colab_type": "code",
        "colab": {
          "base_uri": "https://localhost:8080/",
          "height": 213
        },
        "outputId": "88915605-58c0-4115-9074-467e90b19dc9"
      },
      "source": [
        "from getpass import getpass\n",
        "import os\n",
        "\n",
        "user = getpass('User')\n",
        "password = getpass('Password')\n",
        "os.environ['GIT_AUTH'] = user + ':' + password\n",
        "\n",
        "!git clone https://$GIT_AUTH@github.com/Ace95/DeepLearning_Project.git  "
      ],
      "execution_count": null,
      "outputs": [
        {
          "output_type": "stream",
          "text": [
            "User··········\n",
            "Password··········\n",
            "Cloning into 'DeepLearning_Project'...\n",
            "remote: Enumerating objects: 118, done.\u001b[K\n",
            "remote: Counting objects: 100% (118/118), done.\u001b[K\n",
            "remote: Compressing objects: 100% (90/90), done.\u001b[K\n",
            "remote: Total 203221 (delta 44), reused 90 (delta 19), pack-reused 203103\u001b[K\n",
            "Receiving objects: 100% (203221/203221), 1.44 GiB | 16.01 MiB/s, done.\n",
            "Resolving deltas: 100% (396/396), done.\n",
            "Checking out files: 100% (42058/42058), done.\n"
          ],
          "name": "stdout"
        }
      ]
    },
    {
      "cell_type": "markdown",
      "metadata": {
        "id": "GkEb_JFBgKdf",
        "colab_type": "text"
      },
      "source": [
        "Change to directory of our code"
      ]
    },
    {
      "cell_type": "code",
      "metadata": {
        "id": "xa_EyNghgJCc",
        "colab_type": "code",
        "colab": {
          "base_uri": "https://localhost:8080/",
          "height": 55
        },
        "outputId": "62b35271-5391-4053-b6f8-49a5a2705df1"
      },
      "source": [
        "#%cd /content/gdrive/My\\ Drive/DeepLearning_Project/CNNfromScratch/ # Run from  GDrive\n",
        "\n",
        "%cd /content/DeepLearning_Project/CNNfromScratch/ \n"
      ],
      "execution_count": null,
      "outputs": [
        {
          "output_type": "stream",
          "text": [
            "/content/DeepLearning_Project/CNNfromScratch\n"
          ],
          "name": "stdout"
        }
      ]
    },
    {
      "cell_type": "markdown",
      "metadata": {
        "id": "s25v7o9Mf0de",
        "colab_type": "text"
      },
      "source": [
        "### General Imports and functions definitions"
      ]
    },
    {
      "cell_type": "code",
      "metadata": {
        "id": "_6eOjeKH26jD",
        "colab_type": "code",
        "colab": {}
      },
      "source": [
        "\"\"\"\n",
        "Created on Fri Apr 17 15:40:21 2020\n",
        "\n",
        "@author: Nicolaas Ruberg\n",
        "\"\"\"\n",
        "import os\n",
        "import pandas as pd\n",
        "import matplotlib.pyplot as plt\n",
        "\n",
        "def save_history(history,fileName):\n",
        "    hist_df = pd.DataFrame(history)\n",
        "    with open(fileName,mode='w') as f:\n",
        "        hist_df.to_csv(f)\n",
        "\n",
        "def save_elapsedTime(elapsedTime,fileName):\n",
        "    f = open(fileName,'a+')\n",
        "    f.write('%%Elapsed Time: {:.2f}m. \\n'.format(elapsedTime/60))\n",
        "    f.close()\n",
        "        \n",
        "def find_next_file_history(dirHistory, fileName):\n",
        "    if not os.path.exists(dirHistory):\n",
        "        os.makedirs(dirHistory)\n",
        "    files = os.listdir(dirHistory)\n",
        "    if len(files) > 0:\n",
        "        for f in files:\n",
        "            if f.endswith('.csv'):\n",
        "                return (dirHistory+'/'+fileName[0:fileName.find('.')]\n",
        "                        +'_' + str(len(files)) +'.csv')\n",
        "            else:\n",
        "                return (dirHistory+'/'+fileName)\n",
        "    else:\n",
        "        return (dirHistory+'/'+fileName)\n",
        "def show_history(history):\n",
        "    ACC = 'acc' # for keras\n",
        "    VAL_ACC = 'val_acc'\n",
        "    plt.plot(history.history[ACC]) # on keras wo tensorflow the parameter is 'acc'\n",
        "    plt.plot(history.history[VAL_ACC]) # on keras wo tensorflow the parameter is 'acc'\n",
        "    plt.ylabel('accuracy')\n",
        "    plt.xlabel('epoch')\n",
        "    plt.legend(['Training accuracy', 'Validation accuracy'], loc='best')\n",
        "    \n",
        "    plt.figure()\n",
        "    plt.title('Training and validation loss')\n",
        "    plt.plot(history.history['loss'], 'red', label='Training loss')\n",
        "    plt.plot(history.history['val_loss'], 'blue', label='Validation loss')\n",
        "    plt.ylabel('loss')\n",
        "    plt.xlabel('epoch')\n",
        "    plt.legend(['Training loss', 'Validation loss'], loc='best')\n",
        "    plt.savefig('./models/plot_history.png')\n",
        "    plt.show()\n",
        "    # Let's save our result for further analysi\n",
        "  \n",
        "    "
      ],
      "execution_count": null,
      "outputs": []
    },
    {
      "cell_type": "code",
      "metadata": {
        "id": "1uwsVnhXfnyn",
        "colab_type": "code",
        "colab": {
          "base_uri": "https://localhost:8080/",
          "height": 55
        },
        "outputId": "2edef1ee-80a4-4855-f388-b7aa7d2aeef4"
      },
      "source": [
        "import time\n",
        "\n",
        "import keras\n",
        "import matplotlib.pyplot as plt\n",
        "from keras.models import Sequential\n",
        "from keras.layers import Dense, Dropout, Flatten\n",
        "from keras.layers import Conv2D, MaxPooling2D, BatchNormalization\n",
        "from keras.preprocessing.image  import ImageDataGenerator\n",
        "# from  myUtils import find_next_file_history, save_history, show_history, save_elapsedTime\n",
        "\n",
        "# Some variables\n",
        "#imageShape=(224,224)\n",
        "imageShape=(218,178) #Celeba croped image shape\n",
        "histFileName = 'historyCNN4_src_light.csv'\n",
        "dirHistFileName = './history'\n",
        "numEpochs=20\n",
        "modelsFile = './models/CNN4_celeba_model_src_light.h5'\n",
        "trainDIR='../source_light/train'\n",
        "valDIR='../source_light/valid'\n",
        "testDIR='../source_light/test'"
      ],
      "execution_count": null,
      "outputs": [
        {
          "output_type": "stream",
          "text": [
            "Using TensorFlow backend.\n"
          ],
          "name": "stderr"
        }
      ]
    },
    {
      "cell_type": "code",
      "metadata": {
        "id": "KAnhvJQQgCV4",
        "colab_type": "code",
        "colab": {}
      },
      "source": [
        "cnn4 = Sequential()\n",
        "cnn4.add(Conv2D(32, kernel_size=(3, 3), activation='relu', input_shape=imageShape+(3,))) #diff from example \n",
        "cnn4.add(BatchNormalization())\n",
        "\n",
        "cnn4.add(Conv2D(32, kernel_size=(3, 3), activation='relu'))\n",
        "cnn4.add(BatchNormalization())\n",
        "cnn4.add(MaxPooling2D(pool_size=(2, 2)))\n",
        "cnn4.add(Dropout(0.25))\n",
        "\n",
        "cnn4.add(Conv2D(64, kernel_size=(3, 3), activation='relu'))\n",
        "cnn4.add(BatchNormalization())\n",
        "cnn4.add(MaxPooling2D(pool_size=(2, 2)))\n",
        "cnn4.add(Dropout(0.25))\n",
        "\n",
        "cnn4.add(Conv2D(128, kernel_size=(3, 3), activation='relu'))\n",
        "cnn4.add(BatchNormalization())\n",
        "cnn4.add(MaxPooling2D(pool_size=(2, 2)))\n",
        "cnn4.add(Dropout(0.25))\n",
        "\n",
        "cnn4.add(Flatten())\n",
        "\n",
        "cnn4.add(Dense(512, activation='relu'))\n",
        "cnn4.add(BatchNormalization())\n",
        "cnn4.add(Dropout(0.7))\n",
        "\n",
        "cnn4.add(Dense(512, activation='relu'))\n",
        "cnn4.add(BatchNormalization())\n",
        "cnn4.add(Dropout(0.7))\n",
        "\n",
        "cnn4.add(Dense(3, activation='softmax')) ## Final number of categories\n",
        "\n",
        "cnn4.compile(loss=keras.losses.categorical_crossentropy,\n",
        "              optimizer=keras.optimizers.Adam(),\n",
        "              metrics=['acc'])"
      ],
      "execution_count": null,
      "outputs": []
    },
    {
      "cell_type": "code",
      "metadata": {
        "id": "WoTBtzVwgbE-",
        "colab_type": "code",
        "colab": {
          "base_uri": "https://localhost:8080/",
          "height": 72
        },
        "outputId": "85288a71-d479-47e9-ddf3-bd7dcb42629a"
      },
      "source": [
        "train_datagen = ImageDataGenerator()\n",
        "\n",
        "# load and iterate training dataset\n",
        "train_generator = train_datagen.flow_from_directory(trainDIR,\n",
        "                                                    target_size=imageShape,\n",
        "                                                    color_mode='rgb',\n",
        "                                                    batch_size = 32,\n",
        "                                                    class_mode = 'categorical',\n",
        "                                                    shuffle= True)\n",
        "\n",
        "val_generator = train_datagen.flow_from_directory(valDIR,\n",
        "    target_size=imageShape,\n",
        "    color_mode=\"rgb\",\n",
        "    batch_size=32,\n",
        "    class_mode=\"categorical\",\n",
        "    shuffle=True\n",
        ")\n"
      ],
      "execution_count": null,
      "outputs": [
        {
          "output_type": "stream",
          "text": [
            "Found 11000 images belonging to 3 classes.\n",
            "Found 1000 images belonging to 3 classes.\n"
          ],
          "name": "stdout"
        }
      ]
    },
    {
      "cell_type": "code",
      "metadata": {
        "id": "SlloveMXgkes",
        "colab_type": "code",
        "colab": {
          "base_uri": "https://localhost:8080/",
          "height": 407
        },
        "outputId": "a6f8e3d6-a97a-4dfc-94e1-db61e15b256a"
      },
      "source": [
        "start = time.time()\n",
        "numEpochs=10\n",
        "step_size_train = train_generator.n//train_generator.batch_size\n",
        "step_size_val = val_generator.n//val_generator.batch_size\n",
        "history = cnn4.fit_generator(generator=train_generator,steps_per_epoch=step_size_train,epochs=numEpochs,\n",
        "                    validation_data=val_generator,validation_steps=step_size_val)\n",
        "\n",
        "cnn4.save('./models/CNN4_celeba_model_src_light_10epochs.h5')\n",
        "end = time.time()\n",
        "elapsedTime= (end - start)\n",
        "print(\"Elapsed Time:\")"
      ],
      "execution_count": null,
      "outputs": [
        {
          "output_type": "stream",
          "text": [
            "Epoch 1/10\n",
            "343/343 [==============================] - 131s 381ms/step - loss: 1.0808 - acc: 0.6618 - val_loss: 3.0667 - val_acc: 0.4234\n",
            "Epoch 2/10\n",
            "343/343 [==============================] - 130s 379ms/step - loss: 0.5886 - acc: 0.7808 - val_loss: 1.0459 - val_acc: 0.6467\n",
            "Epoch 3/10\n",
            "343/343 [==============================] - 130s 379ms/step - loss: 0.4737 - acc: 0.8163 - val_loss: 0.8429 - val_acc: 0.6240\n",
            "Epoch 4/10\n",
            "343/343 [==============================] - 130s 379ms/step - loss: 0.4336 - acc: 0.8347 - val_loss: 0.8491 - val_acc: 0.6581\n",
            "Epoch 5/10\n",
            "343/343 [==============================] - 130s 378ms/step - loss: 0.4061 - acc: 0.8448 - val_loss: 0.9641 - val_acc: 0.6519\n",
            "Epoch 6/10\n",
            "343/343 [==============================] - 130s 378ms/step - loss: 0.4079 - acc: 0.8459 - val_loss: 1.1954 - val_acc: 0.6767\n",
            "Epoch 7/10\n",
            "343/343 [==============================] - 130s 379ms/step - loss: 0.3798 - acc: 0.8604 - val_loss: 0.5348 - val_acc: 0.6994\n",
            "Epoch 8/10\n",
            "343/343 [==============================] - 130s 378ms/step - loss: 0.3559 - acc: 0.8676 - val_loss: 0.7967 - val_acc: 0.6591\n",
            "Epoch 9/10\n",
            "343/343 [==============================] - 130s 378ms/step - loss: 0.3460 - acc: 0.8688 - val_loss: 0.9289 - val_acc: 0.6870\n",
            "Epoch 10/10\n",
            "343/343 [==============================] - 130s 378ms/step - loss: 0.3278 - acc: 0.8769 - val_loss: 0.8466 - val_acc: 0.6312\n",
            "Elapsed Time:\n"
          ],
          "name": "stdout"
        }
      ]
    },
    {
      "cell_type": "code",
      "metadata": {
        "id": "2HE2gWsEE4--",
        "colab_type": "code",
        "colab": {
          "base_uri": "https://localhost:8080/",
          "height": 90
        },
        "outputId": "23dbffc9-2149-4e67-d670-4e6ee0af3c19"
      },
      "source": [
        "val_test = train_datagen.flow_from_directory(\n",
        "    directory=testDIR,\n",
        "    target_size=imageShape,\n",
        "    color_mode=\"rgb\",\n",
        "    batch_size=32,\n",
        "    class_mode=\"categorical\",\n",
        "    shuffle=True\n",
        ")\n",
        "\n",
        "\n",
        "step_size_val = val_test.n//val_test.batch_size\n",
        "score1 = cnn4.evaluate_generator(generator=val_test,steps=step_size_val)\n",
        "print('Test loss:', score1[0])\n",
        "print('Test accuracy:', score1[1])"
      ],
      "execution_count": null,
      "outputs": [
        {
          "output_type": "stream",
          "text": [
            "Found 1000 images belonging to 3 classes.\n",
            "Test loss: 0.8066215515136719\n",
            "Test accuracy: 0.6864919066429138\n"
          ],
          "name": "stdout"
        }
      ]
    },
    {
      "cell_type": "code",
      "metadata": {
        "id": "LW86Du4Ogn7_",
        "colab_type": "code",
        "colab": {
          "base_uri": "https://localhost:8080/",
          "height": 579
        },
        "outputId": "ccffa591-02cf-4d66-bbe8-a8ecb2c6576e"
      },
      "source": [
        "show_history(history)\n",
        "finalHistoryFile=find_next_file_history(dirHistFileName,histFileName)\n",
        "save_history(history.history,finalHistoryFile)\n",
        "\n",
        "save_elapsedTime(elapsedTime,finalHistoryFile)\n"
      ],
      "execution_count": null,
      "outputs": [
        {
          "output_type": "display_data",
          "data": {
            "image/png": "[encoded data removed]",
            "text/plain": [
              "<Figure size 432x288 with 1 Axes>"
            ]
          },
          "metadata": {
            "tags": [],
            "needs_background": "light"
          }
        },
        {
          "output_type": "display_data",
          "data": {
            "image/png": "[encoded data removed]",
            "text/plain": [
              "<Figure size 432x288 with 1 Axes>"
            ]
          },
          "metadata": {
            "tags": [],
            "needs_background": "light"
          }
        }
      ]
    },
    {
      "cell_type": "code",
      "metadata": {
        "id": "uWWc8lQhDBU_",
        "colab_type": "code",
        "colab": {}
      },
      "source": [
        "# Final execution with 10 epochs\n",
        "numEpochs = 10\n",
        "step_size_train = train_generator.n//train_generator.batch_size\n",
        "step_size_val = val_generator.n//val_generator.batch_size\n",
        "history = cnn4.fit_generator(generator=train_generator,steps_per_epoch=step_size_train,epochs=numEpochs,\n",
        "                    validation_data=val_generator,validation_steps=step_size_val)\n",
        "\n",
        "cnn4.save('./models/CNN4_celeba_model-10epochs.h5')\n",
        "end = time.time()\n",
        "elapsedTime= (end - start)\n",
        "print(\"Elapsed Time:\")\n",
        "print(\"\\t\\t{:.2f}m\".format(elapsedTime/60))"
      ],
      "execution_count": null,
      "outputs": []
    }
  ]
}